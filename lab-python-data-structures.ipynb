{
 "cells": [
  {
   "cell_type": "markdown",
   "metadata": {
    "tags": []
   },
   "source": [
    "# Lab | Data Structures "
   ]
  },
  {
   "cell_type": "markdown",
   "metadata": {},
   "source": [
    "## Exercise: Managing Customer Orders\n",
    "\n",
    "#As part of a business venture, you are starting an online store that sells various products. To ensure smooth operations, you need to develop a program that manages customer orders and inventory.\n",
    "\n",
    "#Follow the steps below to complete the exercise:\n",
    "\n",
    "#1. Define a list called `products` that contains the following items: \"t-shirt\", \"mug\", \"hat\", \"book\", \"keychain\".\n",
    "    \n",
    "    products = [\"t-shirt\", \"mug\", \"hat\", \"book\", \"keychain\"]\n",
    "\n",
    "#2. Create an empty dictionary called `inventory`.\n",
    "inventory_products={}\n",
    "\n",
    "#3. Ask the user to input the quantity of each product available in the inventory.\n",
    "\n",
    "product_inventory_ts=int(input('Please, insert the quantity for mug: '))\n",
    "product_inventory_mug=int(input('Please, insert the quantity for mug: '))\n",
    "product_inventory_hat=int(input('Please, insert the quantity for hat: '))\n",
    "product_inventory_book=int(input('Please, insert the quantity for mug: '))\n",
    "product_inventory_keychain=int(input('Please, insert the quantity for mug: '))\n",
    "\n",
    "#Use the product names from the `products` list as keys in the `inventory` dictionary and assign the respective quantities as values.\n",
    "#products_name={}\n",
    "\n",
    "#4. Create an empty set called `customer_orders`.\n",
    "customer_orders = set()\n",
    "#5. Ask the user to input the name of three products that a customer wants to order (from those in the products list, meaning three products out of \"t-shirt\", \"mug\", \"hat\", \"book\" or \"keychain\". Add each product name to the `customer_orders` set.\n",
    "\n",
    "#6. Print the products in the `customer_orders` set.\n",
    "\n",
    "#7. Calculate the following order statistics:\n",
    "   - Total Products Ordered: The total number of products in the `customer_orders` set.\n",
    "   - Percentage of Products Ordered: The percentage of products ordered compared to the total available products.\n",
    "   \n",
    "   Store these statistics in a tuple called `order_status`.\n",
    "\n",
    "#8. Print the order statistics using the following format:\n",
    "   ```\n",
    "   Order Statistics:\n",
    "   Total Products Ordered: <total_products_ordered>\n",
    "   Percentage of Products Ordered: <percentage_ordered>% \n",
    "   ```\n",
    "\n",
    "#9. Update the inventory by subtracting 1 from the quantity of each product. Modify the `inventory` dictionary accordingly.\n",
    "\n",
    "#10. Print the updated inventory, displaying the quantity of each product on separate lines.\n",
    "\n",
    "#Solve the exercise by implementing the steps using the Python concepts of lists, dictionaries, sets, and basic input/output operations. "
   ]
  },
  {
   "cell_type": "code",
   "execution_count": null,
   "metadata": {},
   "outputs": [],
   "source": []
  },
  {
   "cell_type": "code",
   "execution_count": null,
   "metadata": {},
   "outputs": [],
   "source": [
    "#1. Define a list called products that contains the following items: \"t-shirt\", \"mug\", \"hat\", \"book\", \"keychain\".\n",
    "\n",
    "products = [\"t-shirt\", \"mug\", \"hat\", \"book\", \"keychain\"]\n"
   ]
  },
  {
   "cell_type": "code",
   "execution_count": null,
   "metadata": {},
   "outputs": [],
   "source": [
    "#2. Create an empty dictionary called inventory. inventory_products={}\n",
    "inventory={}"
   ]
  },
  {
   "cell_type": "code",
   "execution_count": 9,
   "metadata": {},
   "outputs": [
    {
     "name": "stdin",
     "output_type": "stream",
     "text": [
      "Please, insert the quantity for mug:  4\n",
      "Please, insert the quantity for mug:  4\n",
      "Please, insert the quantity for hat:  3\n",
      "Please, insert the quantity for mug:  5\n",
      "Please, insert the quantity for mug:  2\n"
     ]
    }
   ],
   "source": [
    "##### 3. Ask the user to input the quantity of each product available in the inventory.\n",
    "product_inventory_ts=int(input('Please, insert the quantity for ts: '))\n",
    "product_inventory_mug=int(input('Please, insert the quantity for mug: ')) \n",
    "product_inventory_hat=int(input('Please, insert the quantity for hat: ')) \n",
    "product_inventory_book=int(input('Please, insert the quantity for book: ')) \n",
    "product_inventory_keychain=int(input('Please, insert the quantity for keychain: '))"
   ]
  },
  {
   "cell_type": "code",
   "execution_count": 13,
   "metadata": {},
   "outputs": [
    {
     "name": "stdout",
     "output_type": "stream",
     "text": [
      "Inventory of ts 4\n",
      "Inventory of mugs 4\n",
      "Inventory of hat 3\n",
      "Inventory of book 5\n",
      "Inventory of keychain 2\n"
     ]
    }
   ],
   "source": [
    "#Use the product names from the products list as keys in the inventory dictionary and assign the respective quantities as values. \n",
    "#products_name={}\n",
    "print ('Inventory of ts', product_inventory_ts)\n",
    "print ('Inventory of mugs', product_inventory_mug)\n",
    "print ('Inventory of hat', product_inventory_hat)\n",
    "print ('Inventory of book', product_inventory_book)\n",
    "print ('Inventory of keychain', product_inventory_keychain)\n",
    "\n",
    "total_Inventory="
   ]
  },
  {
   "cell_type": "code",
   "execution_count": null,
   "metadata": {},
   "outputs": [],
   "source": [
    "#4. Create an empty set called `customer_orders`.\n",
    "customer_orders = set()\n"
   ]
  },
  {
   "cell_type": "code",
   "execution_count": null,
   "metadata": {},
   "outputs": [],
   "source": [
    " #5 Ask the user to input the name of three products that a customer wants to order \n",
    " #(from those in the products list, meaning three products out of \"t-shirt\", \"mug\", \"hat\", \"book\" or \"keychain\".\n",
    " #Add each product name to the customer_orders set."
   ]
  },
  {
   "cell_type": "code",
   "execution_count": 15,
   "metadata": {},
   "outputs": [
    {
     "name": "stdin",
     "output_type": "stream",
     "text": [
      "Please, enter from those in the products list, meaning three products out of \"t-shirt\", \"mug\", \"hat\", \"book\" or \"keychain\" book\n",
      "Please, enter from those in the products list, meaning three products out of \"t-shirt\", \"mug\", \"hat\", \"book\" or \"keychain\" hat\n",
      "Please, enter from those in the products list, meaning three products out of \"t-shirt\", \"mug\", \"hat\", \"book\" or \"keychain\" mug\n"
     ]
    }
   ],
   "source": [
    "product_1 = input('Please, enter from those in the products list, meaning three products out of \"t-shirt\", \"mug\", \"hat\", \"book\" or \"keychain\"')\n",
    "product_2 = input('Please, enter from those in the products list, meaning three products out of \"t-shirt\", \"mug\", \"hat\", \"book\" or \"keychain\"')\n",
    "product_3 = input('Please, enter from those in the products list, meaning three products out of \"t-shirt\", \"mug\", \"hat\", \"book\" or \"keychain\"')"
   ]
  },
  {
   "cell_type": "code",
   "execution_count": 18,
   "metadata": {},
   "outputs": [
    {
     "name": "stdout",
     "output_type": "stream",
     "text": [
      "The customer order is: ('book', 'hat', 'mug')\n"
     ]
    }
   ],
   "source": [
    "customer_orders =(product_1, product_2, product_3)\n"
   ]
  },
  {
   "cell_type": "code",
   "execution_count": null,
   "metadata": {},
   "outputs": [],
   "source": [
    "#6. Print the products in the customer_orders set.\n",
    "print('The customer order is:' , customer_orders)"
   ]
  },
  {
   "cell_type": "code",
   "execution_count": 27,
   "metadata": {},
   "outputs": [
    {
     "name": "stdout",
     "output_type": "stream",
     "text": [
      "The total number of products:  3\n",
      "The percentage of products ordered: 1.0\n"
     ]
    }
   ],
   "source": [
    "#7. Calculate the following order statistics:\n",
    "#Total Products Ordered: The total number of products in the customer_orders set.\n",
    "total_products_ordered=len(customer_orders)\n",
    "print('The total number of products: ', total_products_ordered)\n",
    "#Percentage of Products Ordered: The percentage of products ordered compared to the total available products.\n",
    "percentage_ordered=total_products_ordered/len(customer_orders)\n",
    "print('The percentage of products ordered:', percentage_ordered)"
   ]
  },
  {
   "cell_type": "code",
   "execution_count": 21,
   "metadata": {},
   "outputs": [],
   "source": [
    "#Store these statistics in a tuple called order_status."
   ]
  },
  {
   "cell_type": "code",
   "execution_count": 28,
   "metadata": {},
   "outputs": [
    {
     "name": "stdout",
     "output_type": "stream",
     "text": [
      "Total products ordered: 3\n",
      "The percentage of products ordered: 1.0\n"
     ]
    }
   ],
   "source": [
    "#8. Print the order statistics using the following format:\n",
    "print('Total products ordered:', total_products_ordered)\n",
    "print('The percentage of products ordered:', percentage_ordered)"
   ]
  },
  {
   "cell_type": "code",
   "execution_count": 38,
   "metadata": {},
   "outputs": [
    {
     "ename": "NameError",
     "evalue": "name 'product1' is not defined",
     "output_type": "error",
     "traceback": [
      "\u001b[1;31m---------------------------------------------------------------------------\u001b[0m",
      "\u001b[1;31mNameError\u001b[0m                                 Traceback (most recent call last)",
      "\u001b[1;32m<ipython-input-38-9650200195db>\u001b[0m in \u001b[0;36m<module>\u001b[1;34m\u001b[0m\n\u001b[0;32m      1\u001b[0m \u001b[1;31m#9. Update the inventory by subtracting 1 from the quantity of each product. Modify the inventory dictionary accordingly.\u001b[0m\u001b[1;33m\u001b[0m\u001b[1;33m\u001b[0m\u001b[1;33m\u001b[0m\u001b[0m\n\u001b[0;32m      2\u001b[0m \u001b[1;33m\u001b[0m\u001b[0m\n\u001b[1;32m----> 3\u001b[1;33m \u001b[0mproduct_1\u001b[0m \u001b[1;33m=\u001b[0m \u001b[0mproduct1\u001b[0m\u001b[1;33m[\u001b[0m\u001b[1;33m-\u001b[0m\u001b[1;36m1\u001b[0m\u001b[1;33m]\u001b[0m\u001b[1;33m\u001b[0m\u001b[1;33m\u001b[0m\u001b[0m\n\u001b[0m\u001b[0;32m      4\u001b[0m \u001b[0mprint\u001b[0m\u001b[1;33m(\u001b[0m\u001b[0mproduct_1\u001b[0m\u001b[1;33m)\u001b[0m\u001b[1;33m\u001b[0m\u001b[1;33m\u001b[0m\u001b[0m\n",
      "\u001b[1;31mNameError\u001b[0m: name 'product1' is not defined"
     ]
    }
   ],
   "source": [
    "#9. Update the inventory by subtracting 1 from the quantity of each product. Modify the inventory dictionary accordingly.\n",
    "\n",
    "product_1 = product1[-1]\n",
    "print(product_1)\n"
   ]
  },
  {
   "cell_type": "code",
   "execution_count": null,
   "metadata": {},
   "outputs": [],
   "source": []
  }
 ],
 "metadata": {
  "kernelspec": {
   "display_name": "Python 3",
   "language": "python",
   "name": "python3"
  },
  "language_info": {
   "codemirror_mode": {
    "name": "ipython",
    "version": 3
   },
   "file_extension": ".py",
   "mimetype": "text/x-python",
   "name": "python",
   "nbconvert_exporter": "python",
   "pygments_lexer": "ipython3",
   "version": "3.8.5"
  }
 },
 "nbformat": 4,
 "nbformat_minor": 4
}
